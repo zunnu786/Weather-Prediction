{
 "cells": [
  {
   "cell_type": "code",
   "execution_count": 13,
   "metadata": {},
   "outputs": [
    {
     "name": "stdout",
     "output_type": "stream",
     "text": [
      "        name   datetime  tempmax  tempmin  temp  feelslike  humidity  precip  \\\n",
      "266  Kolkata  4/17/2023     41.0     30.2  34.4       42.5      61.4   0.000   \n",
      "267  Kolkata  4/18/2023     39.0     29.0  33.0       44.6      74.2   0.000   \n",
      "268  Kolkata  4/19/2023     42.0     29.8  33.9       42.8      66.7   0.000   \n",
      "269  Kolkata  4/20/2023     42.0     29.0  33.9       42.4      65.4   0.000   \n",
      "270  Kolkata  4/21/2023     39.6     29.4  33.2       37.0      51.8   0.001   \n",
      "..       ...        ...      ...      ...   ...        ...       ...     ...   \n",
      "360  Kolkata  7/20/2023     34.0     28.0  30.3       38.8      81.4   0.933   \n",
      "361  Kolkata  7/21/2023     32.6     28.0  29.1       36.9      88.8   4.407   \n",
      "362  Kolkata  7/22/2023     31.0     28.0  28.7       35.7      89.8   7.091   \n",
      "363  Kolkata  7/23/2023     32.0     27.0  29.6       37.4      84.9   3.200   \n",
      "364  Kolkata  7/24/2023     33.0     27.0  29.3       36.7      86.7   1.400   \n",
      "\n",
      "     windspeed               icon  \n",
      "266       22.3          clear-day  \n",
      "267       22.3  partly-cloudy-day  \n",
      "268       24.1  partly-cloudy-day  \n",
      "269       25.9  partly-cloudy-day  \n",
      "270       20.5               rain  \n",
      "..         ...                ...  \n",
      "360       22.3               rain  \n",
      "361       18.4               rain  \n",
      "362       18.4               rain  \n",
      "363       16.6               rain  \n",
      "364       25.9               rain  \n",
      "\n",
      "[99 rows x 10 columns]\n",
      "Accuracy: 0.9459459459459459\n"
     ]
    }
   ],
   "source": [
    "import pandas as pd\n",
    "from sklearn.model_selection import train_test_split\n",
    "from sklearn.ensemble import RandomForestClassifier\n",
    "from sklearn.metrics import accuracy_score\n",
    "\n",
    "data = pd.read_csv(\"data.csv\")\n",
    "print(data[-100:-1])\n",
    "\n",
    "X = data[['tempmax', 'tempmin', 'temp', 'feelslike', 'precip', 'humidity', 'windspeed']]\n",
    "y = data['icon']\n",
    "\n",
    "X_train, X_test, y_train, y_test = train_test_split(X, y, test_size=0.2, random_state=42)\n",
    "\n",
    "forest_clf = RandomForestClassifier(n_estimators=100, random_state=42)\n",
    "\n",
    "forest_clf.fit(X_train, y_train)\n",
    "\n",
    "predictions = forest_clf.predict(X_test)\n",
    "\n",
    "print(\"Accuracy:\", accuracy_score(y_test, predictions))"
   ]
  },
  {
   "cell_type": "code",
   "execution_count": 14,
   "metadata": {},
   "outputs": [],
   "source": [
    "# new_data = pd.DataFrame({\n",
    "#     'tempmax': [32.0],\n",
    "#     'tempmin': [27.0],\n",
    "#     'temp': [29.0],\n",
    "#     'feelslike': [36.0],\n",
    "#     'precip': [20.0],\n",
    "#     'humidity': [93.],\n",
    "#     'windspeed': [10.0]\n",
    "# })\n",
    "\n",
    "# # Predict the weather for the new data\n",
    "# prediction = forest_clf.predict(new_data)\n",
    "# print(prediction)"
   ]
  },
  {
   "cell_type": "code",
   "execution_count": 15,
   "metadata": {},
   "outputs": [
    {
     "data": {
      "text/plain": [
       "['random_forest_model.joblib']"
      ]
     },
     "execution_count": 15,
     "metadata": {},
     "output_type": "execute_result"
    }
   ],
   "source": [
    "import joblib\n",
    "joblib.dump(forest_clf, 'random_forest_model.joblib')"
   ]
  },
  {
   "cell_type": "code",
   "execution_count": null,
   "metadata": {},
   "outputs": [],
   "source": []
  },
  {
   "cell_type": "code",
   "execution_count": null,
   "metadata": {},
   "outputs": [],
   "source": []
  }
 ],
 "metadata": {
  "kernelspec": {
   "display_name": "Python 3 (ipykernel)",
   "language": "python",
   "name": "python3"
  },
  "language_info": {
   "codemirror_mode": {
    "name": "ipython",
    "version": 3
   },
   "file_extension": ".py",
   "mimetype": "text/x-python",
   "name": "python",
   "nbconvert_exporter": "python",
   "pygments_lexer": "ipython3",
   "version": "3.10.10"
  }
 },
 "nbformat": 4,
 "nbformat_minor": 4
}
